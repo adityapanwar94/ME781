{
  "nbformat": 4,
  "nbformat_minor": 0,
  "metadata": {
    "colab": {
      "name": "RNN.ipynb",
      "provenance": [],
      "collapsed_sections": []
    },
    "kernelspec": {
      "name": "python3",
      "display_name": "Python 3"
    },
    "language_info": {
      "name": "python"
    }
  },
  "cells": [
    {
      "cell_type": "code",
      "metadata": {
        "colab": {
          "base_uri": "https://localhost:8080/"
        },
        "id": "pM7Q1x8io9Et",
        "outputId": "7d1a48c6-aa99-431b-e888-801959d9d633"
      },
      "source": [
        "import json\n",
        "import numpy as np\n",
        "from sklearn.model_selection import train_test_split\n",
        "import tensorflow.keras as keras\n",
        "import matplotlib.pyplot as plt\n",
        "from google.colab import drive\n",
        "drive.mount(\"/content/gdrive\")"
      ],
      "execution_count": null,
      "outputs": [
        {
          "output_type": "stream",
          "name": "stdout",
          "text": [
            "Mounted at /content/gdrive\n"
          ]
        }
      ]
    },
    {
      "cell_type": "code",
      "metadata": {
        "id": "lWoGU_XjpHOh"
      },
      "source": [
        "DATA_PATH = \"/content/gdrive/MyDrive/1test_music/data.json\"\n"
      ],
      "execution_count": null,
      "outputs": []
    },
    {
      "cell_type": "code",
      "metadata": {
        "id": "DvcYwLdvptxN"
      },
      "source": [
        "def load_data(data_path):\n",
        "  \n",
        "\n",
        "    with open(data_path, \"r\") as fp:\n",
        "        data = json.load(fp)\n",
        "\n",
        "    X = np.array(data[\"mfcc\"])\n",
        "    y = np.array(data[\"labels\"])\n",
        "    return X, y\n"
      ],
      "execution_count": null,
      "outputs": []
    },
    {
      "cell_type": "code",
      "metadata": {
        "id": "7ZJxZLYYqYYz"
      },
      "source": [
        "def plot_history(history):\n",
        "    fig, axs = plt.subplots(2)\n",
        "\n",
        "    # create accuracy sublpot\n",
        "    axs[0].plot(history.history[\"accuracy\"], label=\"train accuracy\")\n",
        "    axs[0].plot(history.history[\"val_accuracy\"], label=\"test accuracy\")\n",
        "    axs[0].set_ylabel(\"Accuracy\")\n",
        "    axs[0].legend(loc=\"lower right\")\n",
        "    axs[0].set_title(\"Accuracy eval\")\n",
        "\n",
        "    # create error sublpot\n",
        "    axs[1].plot(history.history[\"loss\"], label=\"train error\")\n",
        "    axs[1].plot(history.history[\"val_loss\"], label=\"test error\")\n",
        "    axs[1].set_ylabel(\"Error\")\n",
        "    axs[1].set_xlabel(\"Epoch\")\n",
        "    axs[1].legend(loc=\"upper right\")\n",
        "    axs[1].set_title(\"Error eval\")\n",
        "\n",
        "    plt.show()\n"
      ],
      "execution_count": null,
      "outputs": []
    },
    {
      "cell_type": "code",
      "metadata": {
        "id": "ieOo6hx0qc3m"
      },
      "source": [
        "def prepare_datasets(test_size, validation_size):\n",
        "\n",
        "    # load data\n",
        "    X, y = load_data(DATA_PATH)\n",
        "\n",
        "    # create train, validation and test split\n",
        "    X_train, X_test, y_train, y_test = train_test_split(X, y, test_size=test_size)\n",
        "    X_train, X_validation, y_train, y_validation = train_test_split(X_train, y_train, test_size=validation_size)\n",
        "\n",
        "    return X_train, X_validation, X_test, y_train, y_validation, y_test\n"
      ],
      "execution_count": null,
      "outputs": []
    },
    {
      "cell_type": "code",
      "metadata": {
        "id": "56plqeyzqgt9"
      },
      "source": [
        "def build_model(input_shape):\n",
        "\n",
        "    # build network topology\n",
        "    model = keras.Sequential()\n",
        "\n",
        "    # 2 LSTM layers\n",
        "    model.add(keras.layers.LSTM(64, input_shape=input_shape, return_sequences=True))\n",
        "    model.add(keras.layers.LSTM(64))\n",
        "\n",
        "    # dense layer\n",
        "    model.add(keras.layers.Dense(64, activation='relu'))\n",
        "    model.add(keras.layers.Dropout(0.3))\n",
        "\n",
        "    # output layer\n",
        "    model.add(keras.layers.Dense(10, activation='softmax'))\n",
        "\n",
        "    return model"
      ],
      "execution_count": null,
      "outputs": []
    },
    {
      "cell_type": "code",
      "metadata": {
        "colab": {
          "base_uri": "https://localhost:8080/",
          "height": 1000
        },
        "id": "EuJQgNVPqksL",
        "outputId": "d95ff6bb-6dac-42b6-ad9e-a8413034f569"
      },
      "source": [
        "if __name__ == \"__main__\":\n",
        "\n",
        "    # get train, validation, test splits\n",
        "    X_train, X_validation, X_test, y_train, y_validation, y_test = prepare_datasets(0.25, 0.2)\n",
        "\n",
        "    # create network\n",
        "    input_shape = (X_train.shape[1], X_train.shape[2]) # 130, 13\n",
        "    model = build_model(input_shape)\n",
        "\n",
        "    # compile model\n",
        "    optimiser = keras.optimizers.Adam(learning_rate=0.0001)\n",
        "    model.compile(optimizer=optimiser,\n",
        "                  loss='sparse_categorical_crossentropy',\n",
        "                  metrics=['accuracy'])\n",
        "\n",
        "    model.summary()\n",
        "\n",
        "    # train model\n",
        "    history = model.fit(X_train, y_train, validation_data=(X_validation, y_validation), batch_size=32, epochs=60)\n",
        "\n",
        "    # plot accuracy/error for training and validation\n",
        "    plot_history(history)\n",
        "\n",
        "    # evaluate model on test set\n",
        "    test_loss, test_acc = model.evaluate(X_test, y_test, verbose=2)\n",
        "    print('\\nTest accuracy:', test_acc)"
      ],
      "execution_count": null,
      "outputs": [
        {
          "output_type": "stream",
          "name": "stdout",
          "text": [
            "Model: \"sequential\"\n",
            "_________________________________________________________________\n",
            " Layer (type)                Output Shape              Param #   \n",
            "=================================================================\n",
            " lstm (LSTM)                 (None, 44, 64)            19968     \n",
            "                                                                 \n",
            " lstm_1 (LSTM)               (None, 64)                33024     \n",
            "                                                                 \n",
            " dense (Dense)               (None, 64)                4160      \n",
            "                                                                 \n",
            " dropout (Dropout)           (None, 64)                0         \n",
            "                                                                 \n",
            " dense_1 (Dense)             (None, 10)                650       \n",
            "                                                                 \n",
            "=================================================================\n",
            "Total params: 57,802\n",
            "Trainable params: 57,802\n",
            "Non-trainable params: 0\n",
            "_________________________________________________________________\n",
            "Epoch 1/60\n",
            "562/562 [==============================] - 32s 51ms/step - loss: 2.0080 - accuracy: 0.2918 - val_loss: 1.7058 - val_accuracy: 0.3934\n",
            "Epoch 2/60\n",
            "562/562 [==============================] - 28s 49ms/step - loss: 1.6164 - accuracy: 0.4328 - val_loss: 1.4983 - val_accuracy: 0.4753\n",
            "Epoch 3/60\n",
            "562/562 [==============================] - 28s 49ms/step - loss: 1.4745 - accuracy: 0.4861 - val_loss: 1.3888 - val_accuracy: 0.5109\n",
            "Epoch 4/60\n",
            "562/562 [==============================] - 28s 49ms/step - loss: 1.3796 - accuracy: 0.5216 - val_loss: 1.3137 - val_accuracy: 0.5394\n",
            "Epoch 5/60\n",
            "562/562 [==============================] - 27s 49ms/step - loss: 1.3116 - accuracy: 0.5435 - val_loss: 1.2719 - val_accuracy: 0.5521\n",
            "Epoch 6/60\n",
            "562/562 [==============================] - 27s 49ms/step - loss: 1.2640 - accuracy: 0.5670 - val_loss: 1.2211 - val_accuracy: 0.5750\n",
            "Epoch 7/60\n",
            "562/562 [==============================] - 28s 49ms/step - loss: 1.2180 - accuracy: 0.5800 - val_loss: 1.2009 - val_accuracy: 0.5819\n",
            "Epoch 8/60\n",
            "562/562 [==============================] - 27s 48ms/step - loss: 1.1710 - accuracy: 0.5985 - val_loss: 1.1755 - val_accuracy: 0.5890\n",
            "Epoch 9/60\n",
            "562/562 [==============================] - 28s 49ms/step - loss: 1.1434 - accuracy: 0.6086 - val_loss: 1.1393 - val_accuracy: 0.6030\n",
            "Epoch 10/60\n",
            "562/562 [==============================] - 27s 48ms/step - loss: 1.1098 - accuracy: 0.6215 - val_loss: 1.1279 - val_accuracy: 0.6135\n",
            "Epoch 11/60\n",
            "562/562 [==============================] - 27s 49ms/step - loss: 1.0844 - accuracy: 0.6293 - val_loss: 1.1078 - val_accuracy: 0.6146\n",
            "Epoch 12/60\n",
            "562/562 [==============================] - 27s 48ms/step - loss: 1.0572 - accuracy: 0.6401 - val_loss: 1.0937 - val_accuracy: 0.6231\n",
            "Epoch 13/60\n",
            "562/562 [==============================] - 27s 48ms/step - loss: 1.0286 - accuracy: 0.6489 - val_loss: 1.0936 - val_accuracy: 0.6251\n",
            "Epoch 14/60\n",
            "562/562 [==============================] - 27s 49ms/step - loss: 1.0178 - accuracy: 0.6520 - val_loss: 1.0714 - val_accuracy: 0.6313\n",
            "Epoch 15/60\n",
            "562/562 [==============================] - 27s 48ms/step - loss: 0.9920 - accuracy: 0.6601 - val_loss: 1.0659 - val_accuracy: 0.6335\n",
            "Epoch 16/60\n",
            "562/562 [==============================] - 27s 49ms/step - loss: 0.9754 - accuracy: 0.6694 - val_loss: 1.0472 - val_accuracy: 0.6435\n",
            "Epoch 17/60\n",
            "562/562 [==============================] - 27s 48ms/step - loss: 0.9522 - accuracy: 0.6767 - val_loss: 1.0421 - val_accuracy: 0.6429\n",
            "Epoch 18/60\n",
            "562/562 [==============================] - 27s 48ms/step - loss: 0.9407 - accuracy: 0.6817 - val_loss: 1.0348 - val_accuracy: 0.6444\n",
            "Epoch 19/60\n",
            "562/562 [==============================] - 27s 48ms/step - loss: 0.9254 - accuracy: 0.6832 - val_loss: 1.0237 - val_accuracy: 0.6500\n",
            "Epoch 20/60\n",
            "562/562 [==============================] - 28s 49ms/step - loss: 0.9027 - accuracy: 0.6955 - val_loss: 1.0150 - val_accuracy: 0.6498\n",
            "Epoch 21/60\n",
            "562/562 [==============================] - 27s 48ms/step - loss: 0.8892 - accuracy: 0.6992 - val_loss: 1.0064 - val_accuracy: 0.6573\n",
            "Epoch 22/60\n",
            "562/562 [==============================] - 27s 48ms/step - loss: 0.8776 - accuracy: 0.7001 - val_loss: 1.0057 - val_accuracy: 0.6591\n",
            "Epoch 23/60\n",
            "562/562 [==============================] - 27s 48ms/step - loss: 0.8613 - accuracy: 0.7089 - val_loss: 0.9902 - val_accuracy: 0.6615\n",
            "Epoch 24/60\n",
            "562/562 [==============================] - 27s 48ms/step - loss: 0.8505 - accuracy: 0.7103 - val_loss: 0.9949 - val_accuracy: 0.6582\n",
            "Epoch 25/60\n",
            "562/562 [==============================] - 27s 49ms/step - loss: 0.8334 - accuracy: 0.7151 - val_loss: 0.9794 - val_accuracy: 0.6633\n",
            "Epoch 26/60\n",
            "562/562 [==============================] - 27s 48ms/step - loss: 0.8170 - accuracy: 0.7238 - val_loss: 0.9812 - val_accuracy: 0.6662\n",
            "Epoch 27/60\n",
            "562/562 [==============================] - 27s 48ms/step - loss: 0.8065 - accuracy: 0.7281 - val_loss: 0.9805 - val_accuracy: 0.6691\n",
            "Epoch 28/60\n",
            "562/562 [==============================] - 27s 48ms/step - loss: 0.7973 - accuracy: 0.7275 - val_loss: 0.9630 - val_accuracy: 0.6738\n",
            "Epoch 29/60\n",
            "562/562 [==============================] - 27s 48ms/step - loss: 0.7830 - accuracy: 0.7358 - val_loss: 0.9733 - val_accuracy: 0.6698\n",
            "Epoch 30/60\n",
            "562/562 [==============================] - 27s 47ms/step - loss: 0.7701 - accuracy: 0.7380 - val_loss: 0.9683 - val_accuracy: 0.6709\n",
            "Epoch 31/60\n",
            "562/562 [==============================] - 27s 48ms/step - loss: 0.7628 - accuracy: 0.7415 - val_loss: 0.9689 - val_accuracy: 0.6689\n",
            "Epoch 32/60\n",
            "562/562 [==============================] - 27s 48ms/step - loss: 0.7486 - accuracy: 0.7477 - val_loss: 0.9641 - val_accuracy: 0.6771\n",
            "Epoch 33/60\n",
            "562/562 [==============================] - 27s 48ms/step - loss: 0.7401 - accuracy: 0.7520 - val_loss: 0.9572 - val_accuracy: 0.6773\n",
            "Epoch 34/60\n",
            "562/562 [==============================] - 27s 48ms/step - loss: 0.7237 - accuracy: 0.7548 - val_loss: 0.9582 - val_accuracy: 0.6820\n",
            "Epoch 35/60\n",
            "562/562 [==============================] - 27s 48ms/step - loss: 0.7187 - accuracy: 0.7549 - val_loss: 0.9505 - val_accuracy: 0.6796\n",
            "Epoch 36/60\n",
            "562/562 [==============================] - 27s 48ms/step - loss: 0.7072 - accuracy: 0.7625 - val_loss: 0.9547 - val_accuracy: 0.6818\n",
            "Epoch 37/60\n",
            "562/562 [==============================] - 27s 48ms/step - loss: 0.7011 - accuracy: 0.7620 - val_loss: 0.9508 - val_accuracy: 0.6753\n",
            "Epoch 38/60\n",
            "562/562 [==============================] - 27s 48ms/step - loss: 0.6896 - accuracy: 0.7667 - val_loss: 0.9521 - val_accuracy: 0.6825\n",
            "Epoch 39/60\n",
            "562/562 [==============================] - 27s 48ms/step - loss: 0.6831 - accuracy: 0.7708 - val_loss: 0.9667 - val_accuracy: 0.6802\n",
            "Epoch 40/60\n",
            "562/562 [==============================] - 27s 48ms/step - loss: 0.6705 - accuracy: 0.7764 - val_loss: 0.9517 - val_accuracy: 0.6847\n",
            "Epoch 41/60\n",
            "562/562 [==============================] - 27s 48ms/step - loss: 0.6628 - accuracy: 0.7776 - val_loss: 0.9534 - val_accuracy: 0.6887\n",
            "Epoch 42/60\n",
            "562/562 [==============================] - 27s 48ms/step - loss: 0.6566 - accuracy: 0.7807 - val_loss: 0.9539 - val_accuracy: 0.6880\n",
            "Epoch 43/60\n",
            "562/562 [==============================] - 27s 48ms/step - loss: 0.6456 - accuracy: 0.7805 - val_loss: 0.9527 - val_accuracy: 0.6943\n",
            "Epoch 44/60\n",
            "562/562 [==============================] - 27s 48ms/step - loss: 0.6412 - accuracy: 0.7857 - val_loss: 0.9498 - val_accuracy: 0.6918\n",
            "Epoch 45/60\n",
            "562/562 [==============================] - 27s 48ms/step - loss: 0.6274 - accuracy: 0.7878 - val_loss: 0.9637 - val_accuracy: 0.6896\n",
            "Epoch 46/60\n",
            "562/562 [==============================] - 27s 48ms/step - loss: 0.6247 - accuracy: 0.7901 - val_loss: 0.9624 - val_accuracy: 0.6931\n",
            "Epoch 47/60\n",
            "562/562 [==============================] - 28s 49ms/step - loss: 0.6128 - accuracy: 0.7945 - val_loss: 0.9593 - val_accuracy: 0.6951\n",
            "Epoch 48/60\n",
            "562/562 [==============================] - 27s 47ms/step - loss: 0.6033 - accuracy: 0.8015 - val_loss: 0.9569 - val_accuracy: 0.6963\n",
            "Epoch 49/60\n",
            "562/562 [==============================] - 27s 48ms/step - loss: 0.6015 - accuracy: 0.7962 - val_loss: 0.9608 - val_accuracy: 0.6978\n",
            "Epoch 50/60\n",
            "562/562 [==============================] - 27s 48ms/step - loss: 0.5959 - accuracy: 0.8007 - val_loss: 0.9457 - val_accuracy: 0.7007\n",
            "Epoch 51/60\n",
            "562/562 [==============================] - 27s 49ms/step - loss: 0.5848 - accuracy: 0.8057 - val_loss: 0.9597 - val_accuracy: 0.6943\n",
            "Epoch 52/60\n",
            "562/562 [==============================] - 27s 48ms/step - loss: 0.5815 - accuracy: 0.8047 - val_loss: 0.9686 - val_accuracy: 0.6980\n",
            "Epoch 53/60\n",
            "562/562 [==============================] - 27s 48ms/step - loss: 0.5743 - accuracy: 0.8111 - val_loss: 0.9545 - val_accuracy: 0.7023\n",
            "Epoch 54/60\n",
            "562/562 [==============================] - 27s 49ms/step - loss: 0.5685 - accuracy: 0.8091 - val_loss: 0.9546 - val_accuracy: 0.7038\n",
            "Epoch 55/60\n",
            "562/562 [==============================] - 27s 48ms/step - loss: 0.5562 - accuracy: 0.8120 - val_loss: 0.9798 - val_accuracy: 0.6992\n",
            "Epoch 56/60\n",
            "562/562 [==============================] - 27s 48ms/step - loss: 0.5538 - accuracy: 0.8173 - val_loss: 0.9702 - val_accuracy: 0.7040\n",
            "Epoch 57/60\n",
            "562/562 [==============================] - 27s 48ms/step - loss: 0.5476 - accuracy: 0.8188 - val_loss: 0.9642 - val_accuracy: 0.7054\n",
            "Epoch 58/60\n",
            "562/562 [==============================] - 27s 48ms/step - loss: 0.5365 - accuracy: 0.8198 - val_loss: 0.9829 - val_accuracy: 0.7054\n",
            "Epoch 59/60\n",
            "562/562 [==============================] - 27s 48ms/step - loss: 0.5332 - accuracy: 0.8235 - val_loss: 0.9763 - val_accuracy: 0.7058\n",
            "Epoch 60/60\n",
            "562/562 [==============================] - 27s 48ms/step - loss: 0.5283 - accuracy: 0.8272 - val_loss: 0.9973 - val_accuracy: 0.7054\n"
          ]
        },
        {
          "output_type": "display_data",
          "data": {
            "image/png": "[encoded data removed]",
            "text/plain": [
              "<Figure size 432x288 with 2 Axes>"
            ]
          },
          "metadata": {
            "needs_background": "light"
          }
        },
        {
          "output_type": "stream",
          "name": "stdout",
          "text": [
            "235/235 - 3s - loss: 0.9902 - accuracy: 0.7022 - 3s/epoch - 12ms/step\n",
            "\n",
            "Test accuracy: 0.7021759152412415\n"
          ]
        }
      ]
    }
  ]
}